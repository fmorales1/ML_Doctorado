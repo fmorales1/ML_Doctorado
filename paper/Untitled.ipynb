{
 "cells": [
  {
   "cell_type": "markdown",
   "id": "b2deb3f6-c787-4f8a-817a-e8f7f1ab618e",
   "metadata": {},
   "source": [
    "### Importacion de librerias"
   ]
  },
  {
   "cell_type": "code",
   "execution_count": null,
   "id": "29b23012-c72e-4bce-8bfa-2d25134fcd5f",
   "metadata": {},
   "outputs": [],
   "source": [
    "import tensorflow as tf\n",
    "import matplotlib as mpt\n",
    "import numpy as np\n",
    "import pandas as pd"
   ]
  },
  {
   "cell_type": "markdown",
   "id": "0fb0617e-460f-4f77-a7f1-d627e13200df",
   "metadata": {},
   "source": [
    "### Input y resultados"
   ]
  },
  {
   "cell_type": "code",
   "execution_count": null,
   "id": "d9f8c28b-80b9-466b-a905-a5a6486cbd5a",
   "metadata": {},
   "outputs": [],
   "source": [
    "### definir base de datos\n",
    "train = pd.read_excel(r\"Base de datos.cvs\")\n",
    "labels = pd.read_excel(r\"resultados.csv\")\n",
    "labels = label - 1\n",
    "oneshot = tf.keras.utils.to_categorical(labels, num_clase = len(np.unique(labels)))"
   ]
  },
  {
   "cell_type": "code",
   "execution_count": null,
   "id": "2a79b85e-eb07-4b31-ae44-c6e550fdb9e1",
   "metadata": {},
   "outputs": [],
   "source": []
  },
  {
   "cell_type": "code",
   "execution_count": null,
   "id": "7b606483-a083-4b27-80e7-e22fc8df24c8",
   "metadata": {},
   "outputs": [],
   "source": []
  }
 ],
 "metadata": {
  "kernelspec": {
   "display_name": "Python 3 (ipykernel)",
   "language": "python",
   "name": "python3"
  },
  "language_info": {
   "codemirror_mode": {
    "name": "ipython",
    "version": 3
   },
   "file_extension": ".py",
   "mimetype": "text/x-python",
   "name": "python",
   "nbconvert_exporter": "python",
   "pygments_lexer": "ipython3",
   "version": "3.11.5"
  }
 },
 "nbformat": 4,
 "nbformat_minor": 5
}
